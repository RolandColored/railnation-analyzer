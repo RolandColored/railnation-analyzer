{
 "cells": [
  {
   "cell_type": "markdown",
   "metadata": {
    "pycharm": {
     "name": "#%% md\n"
    }
   },
   "source": [
    "# Set configuration\n",
    "\n",
    "You need to login to a server and fill the following variables:"
   ]
  },
  {
   "cell_type": "code",
   "execution_count": null,
   "metadata": {
    "pycharm": {
     "name": "#%%\n"
    }
   },
   "outputs": [],
   "source": [
    "from IPython.core.display import display\n",
    "import ipywidgets as widgets\n",
    "\n",
    "session_widget = widgets.Text(placeholder='PHPSESSID', description='Session ID')\n",
    "server_widget = widgets.Text(value='s1.railnation.de', description='Server URL')\n",
    "\n",
    "display(session_widget, server_widget)"
   ]
  },
  {
   "cell_type": "code",
   "execution_count": null,
   "metadata": {
    "pycharm": {
     "name": "#%%\n"
    }
   },
   "outputs": [],
   "source": [
    "session_id = session_widget.value\n",
    "server_url = server_widget.value\n",
    "\n",
    "%load_ext autoreload\n",
    "%autoreload 2"
   ]
  },
  {
   "cell_type": "code",
   "execution_count": null,
   "metadata": {
    "pycharm": {
     "name": "#%%\n"
    }
   },
   "outputs": [],
   "source": [
    "# get user ID\n",
    "from server import ServerCaller\n",
    "\n",
    "api = ServerCaller(server_url, session_id)\n",
    "server = api.call('ServerInfoInterface', 'getInfo', None)\n",
    "user_id = server['Infos']['activeUser']\n",
    "print(f'Logged in to {server[\"Body\"][\"worldName\"]}')"
   ]
  },
  {
   "cell_type": "code",
   "execution_count": null,
   "metadata": {
    "pycharm": {
     "name": "#%%\n"
    }
   },
   "outputs": [],
   "source": [
    "# association analysis\n",
    "assoc_info = api.call('CorporationInterface', 'getOtherMemberBuildings',\n",
    "                      [\"00000000-0000-0000-0000-000000000000\"])\n",
    "# 7: Hotel, 8: Restaurant, 9: Mall\n",
    "print(f\"Info for {len(assoc_info['Body'])} members\")"
   ]
  },
  {
   "cell_type": "code",
   "execution_count": null,
   "metadata": {
    "pycharm": {
     "name": "#%%\n"
    }
   },
   "outputs": [],
   "source": [
    "from time import sleep\n",
    "prestiges = {}\n",
    "for user_id, member in assoc_info['Body'].items():\n",
    "    prestiges[user_id] = {}\n",
    "    prestiges[user_id]['overview'] = api.call('BudgetInterface', 'getPrestigeHistoryDetails',\n",
    "                      [user_id, 9])['Body']['balance']\n",
    "    prestiges[user_id]['cities'] = api.call('BudgetInterface', 'getPrestigeHistoryDetails',\n",
    "                      [user_id, 9, '0', '1'])['Body']['balance']\n",
    "    prestiges[user_id]['landmarks'] = api.call('BudgetInterface', 'getPrestigeHistoryDetails',\n",
    "                      [user_id, 9, '0', '2'])['Body']['balance']\n",
    "    sleep(1)\n",
    "    print('.')\n",
    "len(prestiges)"
   ]
  },
  {
   "cell_type": "code",
   "execution_count": null,
   "metadata": {
    "pycharm": {
     "name": "#%%\n"
    }
   },
   "outputs": [],
   "source": [
    "user_ids = list(prestiges.keys())\n",
    "profiles = api.call('ProfileInterface', 'getVCard', [user_ids], short_call=1236)['Body']\n",
    "len(profiles)"
   ]
  },
  {
   "cell_type": "code",
   "execution_count": null,
   "metadata": {
    "pycharm": {
     "name": "#%%\n"
    }
   },
   "outputs": [],
   "source": [
    "import csv\n",
    "\n",
    "cities = set(city['type'] for user_id, prestige in prestiges.items() for city in prestige['cities'] )\n",
    "landmarks = set(landmark['type'] for user_id, prestige in prestiges.items() for landmark in prestige['landmarks'] )\n",
    "\n",
    "with open('prestige.csv', 'w', newline='') as csvfile:\n",
    "    fieldnames = ['member', 'transports', 'invests', 'trainstation', 'other', 'competition', 'medal', '-cities-'] + list(cities) + ['-landmarks-'] + list(landmarks)\n",
    "    writer = csv.DictWriter(csvfile, fieldnames=fieldnames)\n",
    "    writer.writeheader()\n",
    "\n",
    "    for user_id, prestige in prestiges.items():\n",
    "        overview_dict = {\n",
    "            'transports': [row for row in prestige['overview'] if row['type'] == '0'],\n",
    "             'invests': [row for row in prestige['overview'] if row['type'] == '3'],\n",
    "             'trainstation': [row for row in prestige['overview'] if row['type'] == '4'],\n",
    "             'other': [row for row in prestige['overview'] if row['type'] == '6'],\n",
    "             'competition': [row for row in prestige['overview'] if row['type'] == '7'],\n",
    "             'medal': [row for row in prestige['overview'] if row['type'] == '8'],\n",
    "        }\n",
    "        write_dict = {'member': profiles[user_id]['userName']}\n",
    "        for key, value in overview_dict.items():\n",
    "            if len(value) > 0:\n",
    "                write_dict[key] = value[0]['prestige']\n",
    "\n",
    "        for row in prestige['cities']:\n",
    "            write_dict[row['type']] = row['prestige']\n",
    "        for row in prestige['landmarks']:\n",
    "            write_dict[row['type']] = row['prestige']\n",
    "\n",
    "        writer.writerow(write_dict)\n",
    "len(prestiges)"
   ]
  },
  {
   "cell_type": "code",
   "execution_count": null,
   "metadata": {
    "pycharm": {
     "name": "#%%\n"
    }
   },
   "outputs": [],
   "source": []
  }
 ],
 "metadata": {
  "kernelspec": {
   "display_name": "Python 3",
   "language": "python",
   "name": "python3"
  },
  "language_info": {
   "codemirror_mode": {
    "name": "ipython",
    "version": 2
   },
   "file_extension": ".py",
   "mimetype": "text/x-python",
   "name": "python",
   "nbconvert_exporter": "python",
   "pygments_lexer": "ipython2",
   "version": "2.7.6"
  }
 },
 "nbformat": 4,
 "nbformat_minor": 0
}
