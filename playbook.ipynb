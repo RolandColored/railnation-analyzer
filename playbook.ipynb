{
 "cells": [
  {
   "cell_type": "markdown",
   "metadata": {
    "pycharm": {
     "name": "#%% md\n"
    }
   },
   "source": [
    "# Set configuration\n",
    "\n",
    "You need to login to a server and fill the following variables:"
   ]
  },
  {
   "cell_type": "code",
   "execution_count": null,
   "metadata": {
    "pycharm": {
     "name": "#%%\n"
    }
   },
   "outputs": [],
   "source": [
    "from IPython.core.display import display\n",
    "import ipywidgets as widgets\n",
    "\n",
    "session_widget = widgets.Text(placeholder='PHPSESSID', description='Session ID')\n",
    "server_widget = widgets.Text(value='s1.railnation.de', description='Server URL')\n",
    "lang_widget = widgets.IntText(value=0, description='Language ID')\n",
    "invest_widget = widgets.IntSlider(min=0, max=1000000, value=100000, step=10000, description=\"Maximum Invest\")\n",
    "\n",
    "display(session_widget, server_widget, lang_widget, invest_widget)"
   ]
  },
  {
   "cell_type": "code",
   "execution_count": null,
   "metadata": {
    "pycharm": {
     "name": "#%%\n"
    }
   },
   "outputs": [],
   "source": [
    "session_id = session_widget.value\n",
    "server_url = server_widget.value\n",
    "lang_code = lang_widget.value\n",
    "maximum_invest = invest_widget.value\n",
    "\n",
    "%load_ext autoreload\n",
    "%autoreload 2"
   ]
  },
  {
   "cell_type": "code",
   "execution_count": null,
   "metadata": {
    "pycharm": {
     "name": "#%%\n"
    }
   },
   "outputs": [],
   "source": [
    "# get user ID\n",
    "from server import ServerCaller\n",
    "\n",
    "api = ServerCaller(server_url, session_id)\n",
    "server = api.call('ServerInfoInterface', 'getInfo', None)\n",
    "user_id = server['Infos']['activeUser']\n",
    "print(f'Logged in to {server[\"Body\"][\"worldName\"]}')"
   ]
  },
  {
   "cell_type": "code",
   "execution_count": null,
   "metadata": {
    "pycharm": {
     "name": "#%%\n"
    }
   },
   "outputs": [],
   "source": [
    "# get tracks\n",
    "tracks = api.call('RailInterface', 'getForUser', data=[user_id], short_call=1236)\n",
    "track_edges = [(track['FromId'], track['ToId']) for track in tracks['Body']]\n",
    "\n",
    "import networkx as nx\n",
    "\n",
    "tracks_graph = nx.Graph()\n",
    "tracks_graph.add_edges_from(track_edges)\n",
    "print(f'Layed {len(track_edges)} tracks')"
   ]
  },
  {
   "cell_type": "code",
   "execution_count": null,
   "metadata": {
    "pycharm": {
     "name": "#%%\n"
    }
   },
   "outputs": [],
   "source": [
    "# connected towns\n",
    "#from city_names import city_names\n",
    "\n",
    "towns = api.call('LocationInterface', 'getAllTowns', short_call=1236)['Body']\n",
    "\n",
    "# TODO fix mapping towns -> names\n",
    "#for i, town in enumerate(towns['Body']):\n",
    "#    town['Name'] = city_names[str(i+1)][str(lang_code)]\n",
    "\n",
    "towns = [town for town in towns if town['Id'] in tracks_graph.nodes]\n",
    "print(f'Connected to {len(towns)} towns')\n"
   ]
  },
  {
   "cell_type": "code",
   "execution_count": null,
   "metadata": {
    "pycharm": {
     "name": "#%%\n"
    }
   },
   "outputs": [],
   "source": [
    "# factory properties\n",
    "factory_properties = api.properties('factories')\n",
    "factory_growth_properties = api.properties('factory_growth')\n",
    "factories = api.call('LocationInterface', 'getAllFactories', short_call=1236)['Body']\n",
    "\n",
    "factories = [factory for factory in factories if factory['Id'] in tracks_graph.nodes]\n",
    "print(f'Connected to {len(factories)} factories')\n"
   ]
  },
  {
   "cell_type": "code",
   "execution_count": null,
   "metadata": {
    "pycharm": {
     "name": "#%%\n"
    }
   },
   "outputs": [],
   "source": [
    "# invest management\n",
    "import time, random\n",
    "pp_per_rank = lambda base, rank: max(2, round(base * 0.8 ** (rank - 1)))\n",
    "\n",
    "for factory in factories:\n",
    "    print(f\"> Opening factory {factory['Id']}, money left: {api.money}\")\n",
    "    if factory['Level'] == 1:\n",
    "        print('Skipping Level 1 factory') # because we do not know yet how to detect unrevealed factories yet\n",
    "        continue\n",
    "\n",
    "    factory_details = api.call('LocationInterface', 'getFactoryDetails', [factory['Id']])['Body']\n",
    "    invest_rank = api.call('LocationInterface', 'getInvestmentScreenRank', [factory['Id']])['Body']\n",
    "\n",
    "    # gathering information\n",
    "    outgoing_good = factory_details['StoragesInfo']['Outgoing'][0]\n",
    "    current_pp = pp_per_rank(int(factory_properties[outgoing_good]['prestige']),\n",
    "                             int(invest_rank['UserPositionRank']+1))\\\n",
    "        if invest_rank['UserPositionRank'] >= 0 else 0\n",
    "    pagination_length = min(5, invest_rank['PlayerCount'])\n",
    "    invest_screen = api.call('LocationInterface', 'getInvestmentScreen', [factory['Id'], outgoing_good, 0, pagination_length])['Body']\n",
    "\n",
    "    invest_count = invest_screen['UserInvest']['InvestCount'] if invest_screen['UserInvest'] is not None else 0\n",
    "    print(f\"Currently on rank {invest_rank['UserPositionRank']+1} ({current_pp} PP) with {invest_count} invests\")\n",
    "\n",
    "    # start investing\n",
    "    if invest_screen['CorpLosesMajority'] != '00000000-0000-0000-0000-000000000000':\n",
    "        print('Skipping invest because of majority breach')\n",
    "        continue\n",
    "\n",
    "    if invest_count < 2:\n",
    "        print(f\"Investing for {invest_screen['Costs']}\")\n",
    "        if invest_screen['Costs'] > api.money or invest_screen['Costs'] > maximum_invest:\n",
    "            print(\"Not enough money or above invest limit\")\n",
    "            continue\n",
    "        invest_count = api.call('LocationInterface', 'invest', [factory['Id']])['Body']\n",
    "    time.sleep(random.randint(1, 3))\n",
    "print('-- Done --')\n"
   ]
  },
  {
   "cell_type": "code",
   "execution_count": null,
   "metadata": {
    "pycharm": {
     "name": "#%%\n"
    }
   },
   "outputs": [],
   "source": [
    "# tabular factory details\n",
    "import pandas as pd\n",
    "pd.options.display.float_format = '{:,.2f}'.format\n",
    "\n",
    "data = [{\n",
    "        'Id': factory['Parameters'][0],\n",
    "        'Level': factory['Body']['Level'],\n",
    "        'GrowthProgress': factory['Body']['WorkloadInfo']['GrowthPoints'] / 1000 - (factory['Body']['Level'] - 1),\n",
    "        'GrowthTrend': factory['Body']['WorkloadInfo']['Trend'],\n",
    "     } for factory in factory_details]\n",
    "\n",
    "df = pd.DataFrame(data)\n",
    "df\n"
   ]
  },
  {
   "cell_type": "code",
   "execution_count": null,
   "metadata": {
    "pycharm": {
     "name": "#%%\n"
    }
   },
   "outputs": [],
   "source": [
    "# train spotters\n",
    "spotters = api.call('TrainSpotterInterface', 'getWaitingAndCollected', short_call=1236)\n",
    "print(f'Found {len(spotters[\"Body\"][\"Waiting\"][\"TrainSpotter\"])} train spotters')\n",
    "\n",
    "collected_spotters = list(api.bulk_call('TrainSpotterInterface', 'collect', spotters['Body']['Waiting']['TrainSpotter']))\n",
    "print(f'Collected {len(collected_spotters)} train spotters')\n"
   ]
  },
  {
   "cell_type": "code",
   "execution_count": null,
   "metadata": {
    "pycharm": {
     "name": "#%%\n"
    }
   },
   "outputs": [],
   "source": []
  }
 ],
 "metadata": {
  "kernelspec": {
   "display_name": "Python 3",
   "language": "python",
   "name": "python3"
  },
  "language_info": {
   "codemirror_mode": {
    "name": "ipython",
    "version": 2
   },
   "file_extension": ".py",
   "mimetype": "text/x-python",
   "name": "python",
   "nbconvert_exporter": "python",
   "pygments_lexer": "ipython2",
   "version": "2.7.6"
  }
 },
 "nbformat": 4,
 "nbformat_minor": 0
}
