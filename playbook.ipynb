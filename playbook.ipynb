{
 "cells": [
  {
   "cell_type": "markdown",
   "metadata": {
    "pycharm": {
     "name": "#%% md\n"
    }
   },
   "source": [
    "# Set configuration\n",
    "\n",
    "You need to login to a server and fill the following variables:"
   ]
  },
  {
   "cell_type": "code",
   "execution_count": null,
   "metadata": {
    "pycharm": {
     "name": "#%%\n"
    }
   },
   "outputs": [],
   "source": [
    "from IPython.core.display import display\n",
    "import ipywidgets as widgets\n",
    "\n",
    "session_widget = widgets.Text(placeholder='PHPSESSID', description='Session ID')\n",
    "server_widget = widgets.Text(value='s1.railnation.de', description='Server URL')\n",
    "\n",
    "display(session_widget, server_widget)"
   ]
  },
  {
   "cell_type": "code",
   "execution_count": null,
   "metadata": {
    "pycharm": {
     "name": "#%%\n"
    }
   },
   "outputs": [],
   "source": [
    "session_id = session_widget.value\n",
    "server_url = server_widget.value\n",
    "\n",
    "%load_ext autoreload\n",
    "%autoreload 2"
   ]
  },
  {
   "cell_type": "code",
   "execution_count": null,
   "metadata": {
    "pycharm": {
     "name": "#%%\n"
    }
   },
   "outputs": [],
   "source": [
    "# get user ID\n",
    "from server import ServerCaller\n",
    "\n",
    "api = ServerCaller(server_url, session_id)\n",
    "server = api.call('ServerInfoInterface', 'getInfo', None)\n",
    "user_id = server['Infos']['activeUser']\n",
    "print(f'Logged in to {server[\"Body\"][\"worldName\"]}')"
   ]
  },
  {
   "cell_type": "code",
   "execution_count": null,
   "metadata": {
    "pycharm": {
     "name": "#%%\n"
    }
   },
   "outputs": [],
   "source": [
    "# association analysis\n",
    "assoc_info = api.call('CorporationInterface', 'getOtherMemberBuildings',\n",
    "                      [\"00000000-0000-0000-0000-000000000000\"])\n",
    "# 7: Hotel, 8: Restaurant, 9: Mall\n",
    "print(f\"Info for {len(assoc_info['Body'])} members\")"
   ]
  },
  {
   "cell_type": "code",
   "execution_count": null,
   "metadata": {
    "pycharm": {
     "name": "#%%\n"
    }
   },
   "outputs": [],
   "source": [
    "buildings = {\n",
    "\"7\": api.properties('building_hotel', version='8984d44e15dc4d3481b18a42aa1969e6'),\n",
    "\"8\": api.properties('building_restaurant', version='8984d44e15dc4d3481b18a42aa1969e6'),\n",
    "\"9\": api.properties('building_mall', version='8984d44e15dc4d3481b18a42aa1969e6'),\n",
    "}"
   ]
  },
  {
   "cell_type": "code",
   "execution_count": null,
   "metadata": {
    "pycharm": {
     "name": "#%%\n"
    }
   },
   "outputs": [],
   "source": [
    "from statistics import mean\n",
    "from collections import defaultdict\n",
    "\n",
    "all_balances = [int(value['moneyAmount']) for _, value in assoc_info['Body'].items()]\n",
    "print(f\"Current mean balance of all members: {mean(all_balances):,.0f}\")\n",
    "\n",
    "member_buildings = defaultdict(lambda: dict())\n",
    "\n",
    "\n",
    "for user_id, member in assoc_info['Body'].items():\n",
    "    for key, value in member.items():\n",
    "        if key in buildings:\n",
    "            building = buildings[key]\n",
    "            member_buildings[user_id][building['name']] = building['levels'][value['level']]['effect']\n",
    "\n",
    "all_restaurants = [float(value['Restaurant']['FARM']['MONEY']) * (float(member_buildings[user_id]['Hotel']['INCOME_BONUS']['MONEY']) / 100 + 1)\n",
    "                   for user_id, value in member_buildings.items()]\n",
    "all_malls = [float(value['Mall']['FARM']['MONEY']) * (float(member_buildings[user_id]['Hotel']['INCOME_BONUS']['MONEY']) / 100 + 1)\n",
    "             for user_id, value in member_buildings.items()]\n",
    "all_hotels = [int(value['Hotel']['FARM']['PRESTIGE']) for _, value in member_buildings.items()]\n",
    "\n",
    "\n",
    "# daily income\n",
    "durations = {\n",
    "    'Restaurant': 90,\n",
    "    'Mall': 360,\n",
    "    'Hotel': 180\n",
    "}\n",
    "\n",
    "restaurant_income = mean(all_restaurants) * (24 * 60 / durations['Restaurant'])\n",
    "mall_income = mean(all_malls) * (24 * 60 / durations['Mall'])\n",
    "total_income = restaurant_income + mall_income\n",
    "\n",
    "hotel_income = mean(all_hotels) * (24 * 60 / durations['Hotel'])\n",
    "print('- Regular -')\n",
    "print(f\"Mean income per member per day: {total_income:,.0f}\")\n",
    "print(f\"Mean prestige per member per day: {hotel_income:,.0f}\")\n",
    "\n",
    "# Leonardo\n",
    "durations_worker = {k: v * 0.6 for k, v in durations.items()}\n",
    "\n",
    "restaurant_income = mean(all_restaurants) * (24 * 60 / durations_worker['Restaurant'])\n",
    "mall_income = mean(all_malls) * (24 * 60 / durations_worker['Mall'])\n",
    "total_income = restaurant_income + mall_income\n",
    "\n",
    "hotel_income = mean(all_hotels) * (24 * 60 / durations_worker['Hotel'])\n",
    "\n",
    "print('- With worker -')\n",
    "print(f\"Mean income per member per day: {total_income:,.0f}\")\n",
    "print(f\"Mean prestige per member per day: {hotel_income:,.0f}\")\n"
   ]
  }
 ],
 "metadata": {
  "kernelspec": {
   "display_name": "Python 3",
   "language": "python",
   "name": "python3"
  },
  "language_info": {
   "codemirror_mode": {
    "name": "ipython",
    "version": 2
   },
   "file_extension": ".py",
   "mimetype": "text/x-python",
   "name": "python",
   "nbconvert_exporter": "python",
   "pygments_lexer": "ipython2",
   "version": "2.7.6"
  }
 },
 "nbformat": 4,
 "nbformat_minor": 0
}
