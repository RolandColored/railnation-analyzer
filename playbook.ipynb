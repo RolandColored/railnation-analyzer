{
 "cells": [
  {
   "cell_type": "markdown",
   "metadata": {
    "pycharm": {
     "name": "#%% md\n"
    }
   },
   "source": [
    "# Set configuration\n",
    "\n",
    "You need to login to a server and fill the following variables:"
   ]
  },
  {
   "cell_type": "code",
   "execution_count": null,
   "metadata": {
    "pycharm": {
     "name": "#%%\n"
    }
   },
   "outputs": [],
   "source": [
    "from IPython.core.display import display\n",
    "import ipywidgets as widgets\n",
    "\n",
    "session_widget = widgets.Text(placeholder='PHPSESSID', description='Session ID')\n",
    "server_widget = widgets.Text(value='s1.railnation.de', description='Server URL')\n",
    "\n",
    "display(session_widget, server_widget)"
   ]
  },
  {
   "cell_type": "code",
   "execution_count": null,
   "metadata": {
    "pycharm": {
     "name": "#%%\n"
    }
   },
   "outputs": [],
   "source": [
    "session_id = session_widget.value\n",
    "server_url = server_widget.value\n",
    "\n",
    "%load_ext autoreload\n",
    "%autoreload 2"
   ]
  },
  {
   "cell_type": "code",
   "execution_count": null,
   "metadata": {
    "pycharm": {
     "name": "#%%\n"
    }
   },
   "outputs": [],
   "source": [
    "# get user ID\n",
    "from server import ServerCaller\n",
    "\n",
    "api = ServerCaller(server_url, session_id)\n",
    "server = api.call('ServerInfoInterface', 'getInfo', None)\n",
    "user_id = server['Infos']['activeUser']\n",
    "print(f'Logged in to {server[\"Body\"][\"worldName\"]}')"
   ]
  },
  {
   "cell_type": "code",
   "execution_count": null,
   "metadata": {
    "pycharm": {
     "name": "#%%\n"
    }
   },
   "outputs": [],
   "source": [
    "import time\n",
    "from tqdm import tqdm\n",
    "\n",
    "for i in tqdm(range(13)):\n",
    "    buy = api.call('TrainInterface', 'buy',\n",
    "                      [48, \"110199\", [], \"00000000-0000-0000-0000-000000000000\", False],\n",
    "                      short_call=61)\n",
    "    train_ids = buy['Body']\n",
    "    #print(f'{train_ids} bought')\n",
    "    time.sleep(1)\n",
    "\n",
    "    sell = api.call('TrainInterface', 'sellTrains', [train_ids], short_call=61)\n",
    "    #print(f'sold: {sell[\"Body\"]}')\n",
    "    time.sleep(2)"
   ]
  }
 ],
 "metadata": {
  "kernelspec": {
   "display_name": "Python 3",
   "language": "python",
   "name": "python3"
  },
  "language_info": {
   "codemirror_mode": {
    "name": "ipython",
    "version": 2
   },
   "file_extension": ".py",
   "mimetype": "text/x-python",
   "name": "python",
   "nbconvert_exporter": "python",
   "pygments_lexer": "ipython2",
   "version": "2.7.6"
  }
 },
 "nbformat": 4,
 "nbformat_minor": 0
}
