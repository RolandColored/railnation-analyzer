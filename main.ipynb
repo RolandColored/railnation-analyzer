{
 "cells": [
  {
   "cell_type": "markdown",
   "metadata": {
    "pycharm": {
     "name": "#%% md\n"
    }
   },
   "source": [
    "# Set configuration\n",
    "\n",
    "You need to login to a server and fill the following variables:"
   ]
  },
  {
   "cell_type": "code",
   "execution_count": null,
   "metadata": {
    "pycharm": {
     "name": "#%%\n"
    }
   },
   "outputs": [],
   "source": [
    "from IPython.core.display import display\n",
    "import ipywidgets as widgets\n",
    "\n",
    "session_widget = widgets.Text(placeholder='PHPSESSID', description='Session ID')\n",
    "server_widget = widgets.Text(value='s1.railnation.de', description='Server URL')\n",
    "lang_widget = widgets.IntText(value=0, description='Language ID')\n",
    "\n",
    "display(session_widget, server_widget, lang_widget)"
   ]
  },
  {
   "cell_type": "code",
   "execution_count": null,
   "metadata": {
    "pycharm": {
     "name": "#%%\n"
    }
   },
   "outputs": [],
   "source": [
    "session_id = session_widget.value\n",
    "server_url = server_widget.value\n",
    "lang_code = lang_widget.value\n"
   ]
  },
  {
   "cell_type": "code",
   "execution_count": null,
   "metadata": {
    "pycharm": {
     "name": "#%%\n"
    }
   },
   "outputs": [],
   "source": [
    "# get user ID\n",
    "from server import ServerCaller\n",
    "\n",
    "api = ServerCaller(server_url, session_id)\n",
    "server = api.call('ServerInfoInterface', 'getInfo', None, short_call=1092)\n",
    "user_id = server['Infos']['activeUser']\n",
    "print(f'Logged in to {server[\"Body\"][\"worldName\"]}')"
   ]
  },
  {
   "cell_type": "code",
   "execution_count": null,
   "metadata": {
    "pycharm": {
     "name": "#%%\n"
    }
   },
   "outputs": [],
   "source": [
    "# get tracks\n",
    "tracks = api.call('RailInterface', 'getForUser', data=[user_id], short_call=1236)\n",
    "track_edges = [(track['FromId'], track['ToId']) for track in tracks['Body']]\n",
    "\n",
    "import networkx as nx\n",
    "\n",
    "tracks_graph = nx.Graph()\n",
    "tracks_graph.add_edges_from(track_edges)"
   ]
  },
  {
   "cell_type": "code",
   "execution_count": null,
   "metadata": {
    "pycharm": {
     "name": "#%%\n"
    }
   },
   "outputs": [],
   "source": [
    "# connected towns\n",
    "from city_names import city_names\n",
    "\n",
    "towns = api.call('LocationInterface', 'getAllTowns', short_call=1236)\n",
    "\n",
    "# TODO fix mapping towns -> names\n",
    "#for i, town in enumerate(towns['Body']):\n",
    "#    town['Name'] = city_names[str(i+1)][str(lang_code)]\n",
    "\n",
    "towns = [town for town in towns['Body'] if town['Id'] in tracks_graph.nodes]\n",
    "towns"
   ]
  },
  {
   "cell_type": "code",
   "execution_count": null,
   "metadata": {
    "pycharm": {
     "name": "#%%\n"
    }
   },
   "outputs": [],
   "source": [
    "# connected factories\n",
    "\n",
    "factories = api.call('LocationInterface', 'getAllFactories', short_call=1236)\n",
    "\n",
    "factories = [factory for factory in factories['Body'] if factory['Id'] in tracks_graph.nodes]\n",
    "factories\n",
    "\n"
   ]
  }
 ],
 "metadata": {
  "kernelspec": {
   "display_name": "Python 3",
   "language": "python",
   "name": "python3"
  },
  "language_info": {
   "codemirror_mode": {
    "name": "ipython",
    "version": 2
   },
   "file_extension": ".py",
   "mimetype": "text/x-python",
   "name": "python",
   "nbconvert_exporter": "python",
   "pygments_lexer": "ipython2",
   "version": "2.7.6"
  }
 },
 "nbformat": 4,
 "nbformat_minor": 0
}
