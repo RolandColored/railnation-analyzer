{
 "cells": [
  {
   "cell_type": "markdown",
   "source": [
    "# Set configuration\n",
    "\n",
    "You need to login to a server and fill following variables."
   ],
   "metadata": {
    "collapsed": false,
    "pycharm": {
     "name": "#%% md\n"
    }
   }
  },
  {
   "cell_type": "code",
   "execution_count": 49,
   "outputs": [],
   "source": [
    "server_url = 's1.railnation.de'\n",
    "session_id = '<PHPSESSID>'\n",
    "lang_code = 0 # DE"
   ],
   "metadata": {
    "collapsed": false,
    "pycharm": {
     "name": "#%%\n"
    }
   }
  },
  {
   "cell_type": "code",
   "execution_count": 50,
   "outputs": [
    {
     "name": "stdout",
     "output_type": "stream",
     "text": [
      "Logged on Dampfkessel\n"
     ]
    }
   ],
   "source": [
    "# get user ID\n",
    "from server import ServerCaller\n",
    "\n",
    "api = ServerCaller(server_url, session_id)\n",
    "server = api.call('ServerInfoInterface', 'getInfo', None, short_call=1092)\n",
    "user_id = server['Infos']['activeUser']\n",
    "print(f'Logged on {server[\"Body\"][\"worldName\"]}')"
   ],
   "metadata": {
    "collapsed": false,
    "pycharm": {
     "name": "#%%\n"
    }
   }
  },
  {
   "cell_type": "code",
   "execution_count": 51,
   "outputs": [],
   "source": [
    "# get tracks\n",
    "tracks = api.call('RailInterface', 'getForUser', data=[user_id], short_call=1236)\n",
    "track_edges = [(track['FromId'], track['ToId']) for track in tracks['Body']]\n",
    "\n",
    "import networkx as nx\n",
    "\n",
    "tracks_graph = nx.Graph()\n",
    "tracks_graph.add_edges_from(track_edges)"
   ],
   "metadata": {
    "collapsed": false,
    "pycharm": {
     "name": "#%%\n"
    }
   }
  },
  {
   "cell_type": "code",
   "execution_count": 52,
   "outputs": [
    {
     "data": {
      "text/plain": "[{'Id': 'e8cad559-c129-423f-b090-8bbb81ab9b5a',\n  'Level': 5,\n  'IsCapital': False,\n  'LastLevelUp': -313382.0555298,\n  'ConnectedPlayer': 139,\n  'ConnectedPlayersActive': 51,\n  'ConnectedPlayersActiveNoPrestigeBorder': 54,\n  'PassengerSalePromotionEndTime': -3270,\n  'Region': '00000000-0000-0000-0000-000000000000',\n  'RegionYesterday': '00000000-0000-0000-0000-000000000000',\n  'DeliveredAmounts': None,\n  'FinishedWares': None}]"
     },
     "execution_count": 52,
     "metadata": {},
     "output_type": "execute_result"
    }
   ],
   "source": [
    "# connected towns\n",
    "from city_names import city_names\n",
    "\n",
    "towns = api.call('LocationInterface', 'getAllTowns', short_call=1236)\n",
    "\n",
    "# TODO fix mapping towns -> names\n",
    "#for i, town in enumerate(towns['Body']):\n",
    "#    town['Name'] = city_names[str(i+1)][str(lang_code)]\n",
    "\n",
    "towns = [town for town in towns['Body'] if town['Id'] in tracks_graph.nodes]\n",
    "towns"
   ],
   "metadata": {
    "collapsed": false,
    "pycharm": {
     "name": "#%%\n"
    }
   }
  },
  {
   "cell_type": "code",
   "execution_count": 53,
   "outputs": [
    {
     "data": {
      "text/plain": "[{'Id': 'aef1472d-30e6-472b-aa3f-9327c54d5ce0',\n  'Level': 8,\n  'LastLevelUp': -987483.4742013,\n  'ConnectedPlayer': 130,\n  'ConnectedPlayerActive': 42,\n  'ConnectedPlayerActiveNoPrestigeBorder': 45},\n {'Id': 'f7a0d946-0f2d-42a6-9e18-08076ab7ec22',\n  'Level': 5,\n  'LastLevelUp': -1402453.4815276999,\n  'ConnectedPlayer': 139,\n  'ConnectedPlayerActive': 51,\n  'ConnectedPlayerActiveNoPrestigeBorder': 54},\n {'Id': '1496e8fe-d972-4a81-af8b-9da93ef59238',\n  'Level': 9,\n  'LastLevelUp': -568983.4110487,\n  'ConnectedPlayer': 129,\n  'ConnectedPlayerActive': 41,\n  'ConnectedPlayerActiveNoPrestigeBorder': 44},\n {'Id': '4a7d2cf4-d181-45d3-9e6d-26cd25d87714',\n  'Level': 4,\n  'LastLevelUp': -698583.4177345,\n  'ConnectedPlayer': 61,\n  'ConnectedPlayerActive': 34,\n  'ConnectedPlayerActiveNoPrestigeBorder': 36}]"
     },
     "execution_count": 53,
     "metadata": {},
     "output_type": "execute_result"
    }
   ],
   "source": [
    "# connected factories\n",
    "\n",
    "factories = api.call('LocationInterface', 'getAllFactories', short_call=1236)\n",
    "\n",
    "factories = [factory for factory in factories['Body'] if factory['Id'] in tracks_graph.nodes]\n",
    "factories\n",
    "\n"
   ],
   "metadata": {
    "collapsed": false,
    "pycharm": {
     "name": "#%%\n"
    }
   }
  }
 ],
 "metadata": {
  "kernelspec": {
   "display_name": "Python 3",
   "language": "python",
   "name": "python3"
  },
  "language_info": {
   "codemirror_mode": {
    "name": "ipython",
    "version": 2
   },
   "file_extension": ".py",
   "mimetype": "text/x-python",
   "name": "python",
   "nbconvert_exporter": "python",
   "pygments_lexer": "ipython2",
   "version": "2.7.6"
  }
 },
 "nbformat": 4,
 "nbformat_minor": 0
}
